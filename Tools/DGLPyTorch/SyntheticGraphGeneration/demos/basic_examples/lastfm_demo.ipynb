{
 "cells": [
  {
   "cell_type": "code",
   "execution_count": 1,
   "id": "87265316",
   "metadata": {},
   "outputs": [],
   "source": [
    "# Copyright 2023 NVIDIA Corporation. All Rights Reserved.\n",
    "#\n",
    "# Licensed under the Apache License, Version 2.0 (the \"License\");\n",
    "# you may not use this file except in compliance with the License.\n",
    "# You may obtain a copy of the License at\n",
    "#\n",
    "#     http://www.apache.org/licenses/LICENSE-2.0\n",
    "#\n",
    "# Unless required by applicable law or agreed to in writing, software\n",
    "# distributed under the License is distributed on an \"AS IS\" BASIS,\n",
    "# WITHOUT WARRANTIES OR CONDITIONS OF ANY KIND, either express or implied.\n",
    "# See the License for the specific language governing permissions and\n",
    "# limitations under the License.\n",
    "# =============================================================================="
   ]
  },
  {
   "cell_type": "markdown",
   "id": "fd00dbdb",
   "metadata": {},
   "source": [
    "# Basic graph generation demo (lastfm)"
   ]
  },
  {
   "cell_type": "markdown",
   "id": "f988ea71",
   "metadata": {},
   "source": [
    "This notebook demonstrates an example of mimicking a no-partite graph structure by providing an edge list of the target graph directly to the graph generator, responsible for generating the structure. In this example the target graph will be the one from the [lastfm](https://snap.stanford.edu/data/feather-lastfm-social.html) dataset. \n",
    "\n",
    "### Content\n",
    "\n",
    "1. [Preprocessing (graph loading)](#1)\n",
    "1. [Fitting graph generator](#2)\n",
    "1. [Graph generation](#3)\n",
    "1. [Result analysis](#4)"
   ]
  },
  {
   "cell_type": "code",
   "execution_count": 1,
   "id": "79a868a8",
   "metadata": {},
   "outputs": [],
   "source": [
    "import math\n",
    "import numpy as np\n",
    "from syngen.generator.graph import RMATGenerator, RandomGraph\n",
    "\n",
    "from syngen.analyzer.graph import Graph\n",
    "from syngen.analyzer.graph.analyser import AnalysisModule\n",
    "from syngen.analyzer.graph.stats import get_dd_simmilarity_score"
   ]
  },
  {
   "cell_type": "markdown",
   "id": "480775d4",
   "metadata": {},
   "source": [
    "<a id=\"1\"></a>\n",
    "### Load graph\n",
    "\n",
    "We are interesting only in the structural part of the [lastfm](https://snap.stanford.edu/data/feather-lastfm-social.html) dataset, so we load exclusively the edges."
   ]
  },
  {
   "cell_type": "code",
   "execution_count": 2,
   "id": "8b27d322",
   "metadata": {},
   "outputs": [
    {
     "data": {
      "text/plain": [
       "(27806, 7624)"
      ]
     },
     "execution_count": 2,
     "metadata": {},
     "output_type": "execute_result"
    }
   ],
   "source": [
    "# read only graph structure data\n",
    "graph_orig = np.loadtxt('/workspace/data/lasftm_asia/lastfm_asia_edges.csv', delimiter=',', skiprows=1, dtype=np.int32)\n",
    "\n",
    "# extract graph info\n",
    "num_edges = len(graph_orig)\n",
    "num_nodes = np.max(graph_orig) - np.min(graph_orig) + 1\n",
    "num_edges, num_nodes"
   ]
  },
  {
   "cell_type": "markdown",
   "id": "fa3d1624",
   "metadata": {},
   "source": [
    "<a id=\"2\"></a>\n",
    "### Fit generator to graph\n",
    "\n",
    "Now that we have loaded the graph structure, the `RMATGenerator`, which is one of the graph generators implemented, is instantiated and fitted on this graph."
   ]
  },
  {
   "cell_type": "code",
   "execution_count": 3,
   "id": "ee718a26",
   "metadata": {},
   "outputs": [],
   "source": [
    "static_graph_generator = RMATGenerator()\n",
    "static_graph_generator.fit(graph_orig)"
   ]
  },
  {
   "cell_type": "code",
   "execution_count": 4,
   "id": "08a89163",
   "metadata": {},
   "outputs": [
    {
     "name": "stdout",
     "output_type": "stream",
     "text": [
      "FIT RESULTS (0.4978122711181645, 0.17209129333496098, 0.15978355407714862, 0.1703128814697259)\n"
     ]
    }
   ],
   "source": [
    "print(\"FIT RESULTS\", static_graph_generator.get_fit_results())"
   ]
  },
  {
   "cell_type": "markdown",
   "id": "8f634f99",
   "metadata": {},
   "source": [
    "<a id=\"3\"></a>\n",
    "### Generate graphs\n",
    "\n",
    "The fitted generator can be used to generate graphs of arbitrary size.\n",
    "A few examples are provided below"
   ]
  },
  {
   "cell_type": "code",
   "execution_count": null,
   "id": "bf28269e",
   "metadata": {},
   "outputs": [],
   "source": [
    "graph_proper = static_graph_generator.generate(num_nodes=num_nodes, \n",
    "                                                  num_edges=num_edges, \n",
    "                                                  is_directed=False, \n",
    "                                                  has_self_loop=False, \n",
    "                                                  noise=0.5)"
   ]
  },
  {
   "cell_type": "code",
   "execution_count": 6,
   "id": "de3a3140",
   "metadata": {},
   "outputs": [],
   "source": [
    "graph_proper_10x = static_graph_generator.generate(num_nodes=num_nodes*math.sqrt(10), \n",
    "                                                      num_edges=num_edges*10, \n",
    "                                                      is_directed=False, \n",
    "                                                      has_self_loop=False, \n",
    "                                                      noise=0.5)"
   ]
  },
  {
   "cell_type": "code",
   "execution_count": 7,
   "id": "838272df",
   "metadata": {},
   "outputs": [],
   "source": [
    "random_graph_generator = RandomGraph(seed=42)\n",
    "graph_random = random_graph_generator.generate(num_nodes=num_nodes, \n",
    "                                               num_edges=num_edges, \n",
    "                                               is_directed=False, \n",
    "                                               has_self_loop=False,\n",
    "                                               noise=0.0)"
   ]
  },
  {
   "cell_type": "code",
   "execution_count": 8,
   "id": "4012835f",
   "metadata": {},
   "outputs": [],
   "source": [
    "graph_random_10x = random_graph_generator.generate(num_nodes=num_nodes*math.sqrt(10), \n",
    "                                                   num_edges=num_edges*10, \n",
    "                                                   is_directed=False, \n",
    "                                                   has_self_loop=False, \n",
    "                                                   noise=0.0)"
   ]
  },
  {
   "cell_type": "markdown",
   "id": "869a8136",
   "metadata": {},
   "source": [
    "### Convert graph to SNAP\n",
    "\n",
    "Next the original graph is converted to [SNAP](https://snap.stanford.edu/), where the graph analyzer is used to analyze the generated graphs against the original."
   ]
  },
  {
   "cell_type": "code",
   "execution_count": 9,
   "id": "580a56bd",
   "metadata": {},
   "outputs": [],
   "source": [
    "np.savetxt('/workspace/data/lastfm_demo_orig.txt', graph_orig, fmt='%i', delimiter='\\t')\n",
    "np.savetxt('/workspace/data/lastfm_demo_proper.txt', graph_proper, fmt='%i', delimiter='\\t')\n",
    "np.savetxt('/workspace/data/lastfm_demo_random.txt', graph_random, fmt='%i', delimiter='\\t')\n",
    "np.savetxt('/workspace/data/lastfm_demo_proper_10.txt', graph_proper_10x, fmt='%i', delimiter='\\t')\n",
    "np.savetxt('/workspace/data/lastfm_demo_random_10.txt', graph_random_10x, fmt='%i', delimiter='\\t')"
   ]
  },
  {
   "cell_type": "code",
   "execution_count": 10,
   "id": "147e28fe",
   "metadata": {},
   "outputs": [],
   "source": [
    "proper_graph = Graph('/workspace/data/lastfm_demo_proper.txt', name='properly_generated', load_eagerly=True, is_directed=False)\n",
    "random_graph = Graph('/workspace/data/lastfm_demo_random.txt', name='randomly_generated', load_eagerly=True, is_directed=False)\n",
    "proper_graph_10x = Graph('/workspace/data/lastfm_demo_proper_10.txt', name='properly_generated_10', load_eagerly=True, is_directed=False)\n",
    "random_graph_10x = Graph('/workspace/data/lastfm_demo_random_10.txt', name='randomly_generated_10', load_eagerly=True, is_directed=False)\n",
    "\n",
    "orig_graph = Graph('/workspace/data/lastfm_demo_orig.txt', name='original', load_eagerly=True, is_directed=False)\n",
    "all_graphs = [proper_graph, random_graph, orig_graph, proper_graph_10x, random_graph_10x]"
   ]
  },
  {
   "cell_type": "markdown",
   "id": "26986292",
   "metadata": {},
   "source": [
    "<a id=\"4\"></a>\n",
    "### Result analysis"
   ]
  },
  {
   "cell_type": "code",
   "execution_count": 11,
   "id": "b97186af",
   "metadata": {},
   "outputs": [
    {
     "name": "stdout",
     "output_type": "stream",
     "text": [
      "DEGREE SIMILLARITY SCORE\n",
      "ORIG vs PROPER: 0.9667267895362643\n",
      "ORIG vs RANDOM: 0.4424067282769476\n"
     ]
    }
   ],
   "source": [
    "orig_proper = get_dd_simmilarity_score(graph_orig, graph_proper, cdf_points=1000)\n",
    "orig_random = get_dd_simmilarity_score(graph_orig, graph_random, cdf_points=1000)\n",
    "\n",
    "print(\"DEGREE SIMILLARITY SCORE\")\n",
    "print(\"ORIG vs PROPER:\", orig_proper)\n",
    "print(\"ORIG vs RANDOM:\", orig_random)"
   ]
  },
  {
   "cell_type": "code",
   "execution_count": 12,
   "id": "8b2f13f8",
   "metadata": {},
   "outputs": [
    {
     "data": {
      "text/html": [
       "<div>\n",
       "<style scoped>\n",
       "    .dataframe tbody tr th:only-of-type {\n",
       "        vertical-align: middle;\n",
       "    }\n",
       "\n",
       "    .dataframe tbody tr th {\n",
       "        vertical-align: top;\n",
       "    }\n",
       "\n",
       "    .dataframe thead th {\n",
       "        text-align: right;\n",
       "    }\n",
       "</style>\n",
       "<table border=\"1\" class=\"dataframe\">\n",
       "  <thead>\n",
       "    <tr style=\"text-align: right;\">\n",
       "      <th></th>\n",
       "      <th>Category</th>\n",
       "      <th>Statistic</th>\n",
       "      <th>properly_generated</th>\n",
       "      <th>randomly_generated</th>\n",
       "      <th>original</th>\n",
       "      <th>properly_generated_10</th>\n",
       "      <th>randomly_generated_10</th>\n",
       "    </tr>\n",
       "  </thead>\n",
       "  <tbody>\n",
       "    <tr>\n",
       "      <th>0</th>\n",
       "      <td>Global stats</td>\n",
       "      <td>Nodes</td>\n",
       "      <td>5800</td>\n",
       "      <td>8169</td>\n",
       "      <td>7624</td>\n",
       "      <td>29963</td>\n",
       "      <td>32768</td>\n",
       "    </tr>\n",
       "    <tr>\n",
       "      <th>1</th>\n",
       "      <td>Global stats</td>\n",
       "      <td>Edges</td>\n",
       "      <td>27806</td>\n",
       "      <td>27806</td>\n",
       "      <td>27806</td>\n",
       "      <td>278060</td>\n",
       "      <td>278060</td>\n",
       "    </tr>\n",
       "    <tr>\n",
       "      <th>2</th>\n",
       "      <td>Global stats</td>\n",
       "      <td>Density</td>\n",
       "      <td>0.0017</td>\n",
       "      <td>0.0008</td>\n",
       "      <td>0.001</td>\n",
       "      <td>0.0006</td>\n",
       "      <td>0.0005</td>\n",
       "    </tr>\n",
       "    <tr>\n",
       "      <th>3</th>\n",
       "      <td>Global stats</td>\n",
       "      <td>Average degree</td>\n",
       "      <td>4.79</td>\n",
       "      <td>3.4</td>\n",
       "      <td>3.65</td>\n",
       "      <td>9.28</td>\n",
       "      <td>8.49</td>\n",
       "    </tr>\n",
       "    <tr>\n",
       "      <th>4</th>\n",
       "      <td>Global stats</td>\n",
       "      <td>Zero deg nodes</td>\n",
       "      <td>0</td>\n",
       "      <td>0</td>\n",
       "      <td>0</td>\n",
       "      <td>0</td>\n",
       "      <td>0</td>\n",
       "    </tr>\n",
       "    <tr>\n",
       "      <th>5</th>\n",
       "      <td>Global stats</td>\n",
       "      <td>Zero in deg nodes</td>\n",
       "      <td>0</td>\n",
       "      <td>0</td>\n",
       "      <td>0</td>\n",
       "      <td>0</td>\n",
       "      <td>0</td>\n",
       "    </tr>\n",
       "    <tr>\n",
       "      <th>6</th>\n",
       "      <td>Global stats</td>\n",
       "      <td>Zero out deg nodes</td>\n",
       "      <td>0</td>\n",
       "      <td>0</td>\n",
       "      <td>0</td>\n",
       "      <td>0</td>\n",
       "      <td>0</td>\n",
       "    </tr>\n",
       "    <tr>\n",
       "      <th>7</th>\n",
       "      <td>Global stats</td>\n",
       "      <td>Self loops</td>\n",
       "      <td>0</td>\n",
       "      <td>0</td>\n",
       "      <td>0</td>\n",
       "      <td>0</td>\n",
       "      <td>0</td>\n",
       "    </tr>\n",
       "    <tr>\n",
       "      <th>8</th>\n",
       "      <td>Global stats</td>\n",
       "      <td>Bidirectional edges</td>\n",
       "      <td>27806</td>\n",
       "      <td>27806</td>\n",
       "      <td>27806</td>\n",
       "      <td>278060</td>\n",
       "      <td>278060</td>\n",
       "    </tr>\n",
       "    <tr>\n",
       "      <th>9</th>\n",
       "      <td>Global stats</td>\n",
       "      <td>Unique undirected edges</td>\n",
       "      <td>27806</td>\n",
       "      <td>27806</td>\n",
       "      <td>27806</td>\n",
       "      <td>278060</td>\n",
       "      <td>278060</td>\n",
       "    </tr>\n",
       "    <tr>\n",
       "      <th>10</th>\n",
       "      <td>Global stats</td>\n",
       "      <td>Unique directed edges</td>\n",
       "      <td>55612</td>\n",
       "      <td>55612</td>\n",
       "      <td>55612</td>\n",
       "      <td>556120</td>\n",
       "      <td>556120</td>\n",
       "    </tr>\n",
       "    <tr>\n",
       "      <th>11</th>\n",
       "      <td>Connectivity</td>\n",
       "      <td>Is connected</td>\n",
       "      <td>False</td>\n",
       "      <td>False</td>\n",
       "      <td>True</td>\n",
       "      <td>False</td>\n",
       "      <td>True</td>\n",
       "    </tr>\n",
       "    <tr>\n",
       "      <th>12</th>\n",
       "      <td>Connectivity</td>\n",
       "      <td>Number of connected components</td>\n",
       "      <td>39</td>\n",
       "      <td>2</td>\n",
       "      <td>1</td>\n",
       "      <td>24</td>\n",
       "      <td>1</td>\n",
       "    </tr>\n",
       "    <tr>\n",
       "      <th>13</th>\n",
       "      <td>Connectivity</td>\n",
       "      <td>Percent of nodes in largest component</td>\n",
       "      <td>98.67</td>\n",
       "      <td>99.98</td>\n",
       "      <td>100</td>\n",
       "      <td>99.84</td>\n",
       "      <td>100</td>\n",
       "    </tr>\n",
       "    <tr>\n",
       "      <th>14</th>\n",
       "      <td>Transitivity</td>\n",
       "      <td>Clustering coefficient</td>\n",
       "      <td>0.0276935</td>\n",
       "      <td>0.00106919</td>\n",
       "      <td>0.224281</td>\n",
       "      <td>0.0098363</td>\n",
       "      <td>0.000510269</td>\n",
       "    </tr>\n",
       "    <tr>\n",
       "      <th>15</th>\n",
       "      <td>Path stats</td>\n",
       "      <td>90% effective diameter</td>\n",
       "      <td>4.65</td>\n",
       "      <td>5.44</td>\n",
       "      <td>6.56</td>\n",
       "      <td>3.97</td>\n",
       "      <td>4</td>\n",
       "    </tr>\n",
       "    <tr>\n",
       "      <th>16</th>\n",
       "      <td>Path stats</td>\n",
       "      <td>Approx. full diameter</td>\n",
       "      <td>10</td>\n",
       "      <td>8</td>\n",
       "      <td>13</td>\n",
       "      <td>7</td>\n",
       "      <td>6</td>\n",
       "    </tr>\n",
       "    <tr>\n",
       "      <th>17</th>\n",
       "      <td>Path stats</td>\n",
       "      <td>Average shortest path length</td>\n",
       "      <td>3.84</td>\n",
       "      <td>4.83</td>\n",
       "      <td>5.31</td>\n",
       "      <td>3.62</td>\n",
       "      <td>3.94</td>\n",
       "    </tr>\n",
       "  </tbody>\n",
       "</table>\n",
       "</div>"
      ],
      "text/plain": [
       "        Category                              Statistic properly_generated  \\\n",
       "0   Global stats                                  Nodes               5800   \n",
       "1   Global stats                                  Edges              27806   \n",
       "2   Global stats                                Density             0.0017   \n",
       "3   Global stats                         Average degree               4.79   \n",
       "4   Global stats                         Zero deg nodes                  0   \n",
       "5   Global stats                      Zero in deg nodes                  0   \n",
       "6   Global stats                     Zero out deg nodes                  0   \n",
       "7   Global stats                             Self loops                  0   \n",
       "8   Global stats                    Bidirectional edges              27806   \n",
       "9   Global stats                Unique undirected edges              27806   \n",
       "10  Global stats                  Unique directed edges              55612   \n",
       "11  Connectivity                           Is connected              False   \n",
       "12  Connectivity         Number of connected components                 39   \n",
       "13  Connectivity  Percent of nodes in largest component              98.67   \n",
       "14  Transitivity                 Clustering coefficient          0.0276935   \n",
       "15    Path stats                 90% effective diameter               4.65   \n",
       "16    Path stats                  Approx. full diameter                 10   \n",
       "17    Path stats           Average shortest path length               3.84   \n",
       "\n",
       "   randomly_generated  original properly_generated_10 randomly_generated_10  \n",
       "0                8169      7624                 29963                 32768  \n",
       "1               27806     27806                278060                278060  \n",
       "2              0.0008     0.001                0.0006                0.0005  \n",
       "3                 3.4      3.65                  9.28                  8.49  \n",
       "4                   0         0                     0                     0  \n",
       "5                   0         0                     0                     0  \n",
       "6                   0         0                     0                     0  \n",
       "7                   0         0                     0                     0  \n",
       "8               27806     27806                278060                278060  \n",
       "9               27806     27806                278060                278060  \n",
       "10              55612     55612                556120                556120  \n",
       "11              False      True                 False                  True  \n",
       "12                  2         1                    24                     1  \n",
       "13              99.98       100                 99.84                   100  \n",
       "14         0.00106919  0.224281             0.0098363           0.000510269  \n",
       "15               5.44      6.56                  3.97                     4  \n",
       "16                  8        13                     7                     6  \n",
       "17               4.83      5.31                  3.62                  3.94  "
      ]
     },
     "execution_count": 12,
     "metadata": {},
     "output_type": "execute_result"
    }
   ],
   "source": [
    "graph_analyser = AnalysisModule()\n",
    "df = graph_analyser.compare_graph_stats(*all_graphs)\n",
    "df"
   ]
  },
  {
   "cell_type": "markdown",
   "id": "5ba91a8b",
   "metadata": {},
   "source": [
    "The degree distribution comparison and hop plots can also be visualized by calling the `compare_graph_plots` fn on the analyzer."
   ]
  },
  {
   "cell_type": "code",
   "execution_count": 13,
   "id": "5a89dba0",
   "metadata": {},
   "outputs": [
    {
     "data": {
      "image/png": "[encoded data removed]",
      "text/plain": [
       "<Figure size 1296x432 with 2 Axes>"
      ]
     },
     "metadata": {
      "needs_background": "light"
     },
     "output_type": "display_data"
    }
   ],
   "source": [
    "_ = graph_analyser.compare_graph_plots(*all_graphs)"
   ]
  },
  {
   "cell_type": "code",
   "execution_count": null,
   "id": "a1eacb32",
   "metadata": {},
   "outputs": [],
   "source": []
  }
 ],
 "metadata": {
  "kernelspec": {
   "display_name": "Python 3 (ipykernel)",
   "language": "python",
   "name": "python3"
  },
  "language_info": {
   "codemirror_mode": {
    "name": "ipython",
    "version": 3
   },
   "file_extension": ".py",
   "mimetype": "text/x-python",
   "name": "python",
   "nbconvert_exporter": "python",
   "pygments_lexer": "ipython3",
   "version": "3.8.10"
  }
 },
 "nbformat": 4,
 "nbformat_minor": 5
}
