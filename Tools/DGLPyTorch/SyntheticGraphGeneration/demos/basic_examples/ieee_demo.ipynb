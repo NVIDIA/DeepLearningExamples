{
 "cells": [
  {
   "cell_type": "raw",
   "id": "bc53e4f2",
   "metadata": {},
   "source": [
    "# Copyright 2023 NVIDIA Corporation. All Rights Reserved.\n",
    "#\n",
    "# Licensed under the Apache License, Version 2.0 (the \"License\");\n",
    "# you may not use this file except in compliance with the License.\n",
    "# You may obtain a copy of the License at\n",
    "#\n",
    "#     http://www.apache.org/licenses/LICENSE-2.0\n",
    "#\n",
    "# Unless required by applicable law or agreed to in writing, software\n",
    "# distributed under the License is distributed on an \"AS IS\" BASIS,\n",
    "# WITHOUT WARRANTIES OR CONDITIONS OF ANY KIND, either express or implied.\n",
    "# See the License for the specific language governing permissions and\n",
    "# limitations under the License.\n",
    "# =============================================================================="
   ]
  },
  {
   "cell_type": "markdown",
   "id": "2b4e6b4a",
   "metadata": {},
   "source": [
    "# Basic bipartite graph generation demo (IEEE)"
   ]
  },
  {
   "cell_type": "markdown",
   "id": "9e800257",
   "metadata": {},
   "source": [
    "### Overview\n",
    "\n",
    "This notebook demonstrates an example of mimicking a bipartite graph structure by providing an edge list of the target graph directly to the graph generator, responsible for generating the structure. The target graph will be the one from [IEEE](https://www.kaggle.com/c/ieee-fraud-detection) dataset. \n",
    "\n",
    "### Content\n",
    "\n",
    "1. [Preprocessing (graph loading)](#1)\n",
    "1. [Fitting graph generator](#2)\n",
    "1. [Graph generation](#3)\n",
    "1. [Result analysis](#4)"
   ]
  },
  {
   "cell_type": "markdown",
   "id": "ea1ec967",
   "metadata": {},
   "source": [
    "### Imports"
   ]
  },
  {
   "cell_type": "code",
   "execution_count": 1,
   "id": "45af8524",
   "metadata": {},
   "outputs": [],
   "source": [
    "import math\n",
    "import numpy as np\n",
    "import pandas as pd  \n",
    "\n",
    "from syngen.generator.graph import RMATBipartiteGenerator, RandomBipartite\n",
    "\n",
    "from syngen.analyzer.graph import Graph\n",
    "from syngen.analyzer.graph.analyser import AnalysisModule\n",
    "from syngen.analyzer.graph.stats import get_dd_simmilarity_score"
   ]
  },
  {
   "cell_type": "markdown",
   "id": "ac151980",
   "metadata": {},
   "source": [
    "<a id=\"1\"></a>\n",
    "### Load graph\n",
    "\n",
    "[IEEE](https://www.kaggle.com/c/ieee-fraud-detection) dataset is stored as a csv file; however, we only require the corresponding graph structure, which could be extracted from `user_id` and `product_id` columns."
   ]
  },
  {
   "cell_type": "markdown",
   "id": "e058fb42",
   "metadata": {},
   "source": [
    "**Note**: to obtain the datasets run the `/scripts/get_datasets.sh` script as described in the `README.md`"
   ]
  },
  {
   "cell_type": "code",
   "execution_count": 2,
   "id": "57d41238",
   "metadata": {},
   "outputs": [
    {
     "data": {
      "text/plain": [
       "(52008, 17289)"
      ]
     },
     "execution_count": 2,
     "metadata": {},
     "output_type": "execute_result"
    }
   ],
   "source": [
    "# extract graph structure data\n",
    "df = pd.read_csv('/workspace/data/ieee-fraud/data.csv')\n",
    "df = df[['user_id', 'product_id']]  \n",
    "\n",
    "# encode nodes\n",
    "src_ids =  df['user_id'].astype(\"category\").cat.codes.astype(int).values \n",
    "src_nodes_set = set(src_ids)\n",
    "dst_ids = df['product_id'].astype(\"category\").cat.codes.astype(int).values + len(src_nodes_set)\n",
    "dst_nodes_set = set(dst_ids)\n",
    "\n",
    "# make undirected graph\n",
    "src_dst = list(zip(src_ids, dst_ids))    \n",
    "dst_src = list(zip(dst_ids, src_ids))\n",
    "graph_orig = list(set(src_dst + dst_src)) \n",
    "\n",
    "# extract graph info\n",
    "num_edges = len(graph_orig) // 2\n",
    "num_nodes = np.max(graph_orig) - np.min(graph_orig) + 1\n",
    "num_edges, num_nodes"
   ]
  },
  {
   "cell_type": "markdown",
   "id": "8b36bb64",
   "metadata": {},
   "source": [
    "<a id=\"2\"></a>\n",
    "### Fit generator to graph"
   ]
  },
  {
   "cell_type": "markdown",
   "id": "40682480",
   "metadata": {},
   "source": [
    "Now that we have loaded the original dataset, and extracted the graph structure, a `RMATBipartiteGenerator` is instantiated to fit on this graph."
   ]
  },
  {
   "cell_type": "code",
   "execution_count": 3,
   "id": "a19a04e3",
   "metadata": {},
   "outputs": [
    {
     "name": "stderr",
     "output_type": "stream",
     "text": [
      "/workspace/syngen/generator/graph/fitter.py:111: UserWarning: the optimization function is constant for the FastFitter. Please, use Fitter class instead.\n",
      "  warnings.warn(\"the optimization function is constant for the FastFitter. Please, use Fitter class instead.\")\n"
     ]
    }
   ],
   "source": [
    "static_graph_generator = RMATBipartiteGenerator()\n",
    "static_graph_generator.fit(graph_orig, src_nodes_set, dst_nodes_set, is_directed=False)"
   ]
  },
  {
   "cell_type": "code",
   "execution_count": 4,
   "id": "7c818ca0",
   "metadata": {},
   "outputs": [
    {
     "name": "stdout",
     "output_type": "stream",
     "text": [
      "FIT RESULTS ((0.43224427700042733, 0.22040712833404563, 0.06775572299957267, 0.27959287166595437), None)\n"
     ]
    }
   ],
   "source": [
    "print(\"FIT RESULTS\", static_graph_generator.get_fit_results())"
   ]
  },
  {
   "cell_type": "markdown",
   "id": "3c42be3d",
   "metadata": {},
   "source": [
    "<a id=\"3\"></a>\n",
    "### Generate graphs"
   ]
  },
  {
   "cell_type": "markdown",
   "id": "d3e151cb",
   "metadata": {},
   "source": [
    "The fitted generator can be used to generate graphs of arbitrary size.\n",
    "A few examples are provided below"
   ]
  },
  {
   "cell_type": "code",
   "execution_count": 5,
   "id": "fc9c684d",
   "metadata": {},
   "outputs": [],
   "source": [
    "graph_proper = static_graph_generator.generate(len(src_nodes_set),\n",
    "                                                  len(dst_nodes_set),\n",
    "                                                  num_edges,\n",
    "                                                  num_edges, \n",
    "                                                  is_directed=False, \n",
    "                                                  noise=0.5)"
   ]
  },
  {
   "cell_type": "code",
   "execution_count": 6,
   "id": "563b9275",
   "metadata": {},
   "outputs": [],
   "source": [
    "graph_proper_10x = static_graph_generator.generate(len(src_nodes_set)*math.sqrt(10),\n",
    "                                                      len(dst_nodes_set)*math.sqrt(10),\n",
    "                                                      num_edges*10,\n",
    "                                                      num_edges*10,\n",
    "                                                      is_directed=False, \n",
    "                                                      noise=0.5)"
   ]
  },
  {
   "cell_type": "code",
   "execution_count": 7,
   "id": "87ab6a29",
   "metadata": {},
   "outputs": [],
   "source": [
    "random_graph_generator = RandomBipartite(seed=42)\n",
    "graph_random = random_graph_generator.generate(len(src_nodes_set),\n",
    "                                                  len(dst_nodes_set),\n",
    "                                                  num_edges,\n",
    "                                                  num_edges, \n",
    "                                                  is_directed=False, \n",
    "                                                  noise=0.0)"
   ]
  },
  {
   "cell_type": "code",
   "execution_count": 8,
   "id": "2ac4b3a1",
   "metadata": {},
   "outputs": [],
   "source": [
    "graph_random_10x = random_graph_generator.generate(len(src_nodes_set)*math.sqrt(10),\n",
    "                                                      len(dst_nodes_set)*math.sqrt(10),\n",
    "                                                      num_edges*10,\n",
    "                                                      num_edges*10,\n",
    "                                                      is_directed=False, \n",
    "                                                      noise=0.0)"
   ]
  },
  {
   "cell_type": "markdown",
   "id": "56c85932",
   "metadata": {},
   "source": [
    "### Convert graph to SNAP"
   ]
  },
  {
   "cell_type": "markdown",
   "id": "01230096",
   "metadata": {},
   "source": [
    "Next the original graph is converted to [SNAP](https://snap.stanford.edu/), where the graph analyzer is used to analyze the generated graphs with the original."
   ]
  },
  {
   "cell_type": "code",
   "execution_count": 9,
   "id": "ce014250",
   "metadata": {},
   "outputs": [],
   "source": [
    "np.savetxt('/workspace/data/ieee_demo_orig.txt', graph_orig, fmt='%i', delimiter='\\t')\n",
    "np.savetxt('/workspace/data/ieee_demo_proper.txt', graph_proper, fmt='%i', delimiter='\\t')\n",
    "np.savetxt('/workspace/data/ieee_demo_random.txt', graph_random, fmt='%i', delimiter='\\t')\n",
    "np.savetxt('/workspace/data/ieee_demo_proper_10.txt', graph_proper_10x, fmt='%i', delimiter='\\t')\n",
    "np.savetxt('/workspace/data/ieee_demo_random_10.txt', graph_random_10x, fmt='%i', delimiter='\\t')"
   ]
  },
  {
   "cell_type": "code",
   "execution_count": 10,
   "id": "7d4b705c",
   "metadata": {},
   "outputs": [],
   "source": [
    "proper_graph = Graph('/workspace/data/ieee_demo_proper.txt', name='properly_generated', load_eagerly=True, is_directed=False)\n",
    "random_graph = Graph('/workspace/data/ieee_demo_random.txt', name='randomly_generated', load_eagerly=True, is_directed=False)\n",
    "proper_graph_10x = Graph('/workspace/data/ieee_demo_proper_10.txt', name='properly_generated_10', load_eagerly=True, is_directed=False)\n",
    "random_graph_10x = Graph('/workspace/data/ieee_demo_random_10.txt', name='randomly_generated_10', load_eagerly=True, is_directed=False)\n",
    "\n",
    "orig_graph = Graph('/workspace/data/ieee_demo_orig.txt', name='original', load_eagerly=True, is_directed=False)\n",
    "all_graphs = [proper_graph, random_graph, orig_graph, proper_graph_10x, random_graph_10x]"
   ]
  },
  {
   "cell_type": "markdown",
   "id": "c0485b3d",
   "metadata": {},
   "source": [
    "<a id=\"4\"></a>\n",
    "### Result analysis"
   ]
  },
  {
   "cell_type": "code",
   "execution_count": 11,
   "id": "02457764",
   "metadata": {},
   "outputs": [
    {
     "name": "stdout",
     "output_type": "stream",
     "text": [
      "DEGREE SIMILLARITY SCORE\n",
      "ORIG vs PROPER: 0.9609898378110571\n",
      "ORIG vs RANDOM: 0.9580625100476736\n"
     ]
    }
   ],
   "source": [
    "orig_proper = get_dd_simmilarity_score(graph_orig, graph_proper, cdf_points=1000)\n",
    "orig_random = get_dd_simmilarity_score(graph_orig, graph_random, cdf_points=1000)\n",
    "\n",
    "print(\"DEGREE SIMILLARITY SCORE\")\n",
    "print(\"ORIG vs PROPER:\", orig_proper)\n",
    "print(\"ORIG vs RANDOM:\", orig_random)"
   ]
  },
  {
   "cell_type": "code",
   "execution_count": 12,
   "id": "c49e37af",
   "metadata": {},
   "outputs": [
    {
     "data": {
      "text/html": [
       "<div>\n",
       "<style scoped>\n",
       "    .dataframe tbody tr th:only-of-type {\n",
       "        vertical-align: middle;\n",
       "    }\n",
       "\n",
       "    .dataframe tbody tr th {\n",
       "        vertical-align: top;\n",
       "    }\n",
       "\n",
       "    .dataframe thead th {\n",
       "        text-align: right;\n",
       "    }\n",
       "</style>\n",
       "<table border=\"1\" class=\"dataframe\">\n",
       "  <thead>\n",
       "    <tr style=\"text-align: right;\">\n",
       "      <th></th>\n",
       "      <th>Category</th>\n",
       "      <th>Statistic</th>\n",
       "      <th>properly_generated</th>\n",
       "      <th>randomly_generated</th>\n",
       "      <th>original</th>\n",
       "      <th>properly_generated_10</th>\n",
       "      <th>randomly_generated_10</th>\n",
       "    </tr>\n",
       "  </thead>\n",
       "  <tbody>\n",
       "    <tr>\n",
       "      <th>0</th>\n",
       "      <td>Global stats</td>\n",
       "      <td>Nodes</td>\n",
       "      <td>14265</td>\n",
       "      <td>23606</td>\n",
       "      <td>17289</td>\n",
       "      <td>46862</td>\n",
       "      <td>55880</td>\n",
       "    </tr>\n",
       "    <tr>\n",
       "      <th>1</th>\n",
       "      <td>Global stats</td>\n",
       "      <td>Edges</td>\n",
       "      <td>52008</td>\n",
       "      <td>52008</td>\n",
       "      <td>52008</td>\n",
       "      <td>520080</td>\n",
       "      <td>520080</td>\n",
       "    </tr>\n",
       "    <tr>\n",
       "      <th>2</th>\n",
       "      <td>Global stats</td>\n",
       "      <td>Density</td>\n",
       "      <td>0.0005</td>\n",
       "      <td>0.0002</td>\n",
       "      <td>0.0003</td>\n",
       "      <td>0.0005</td>\n",
       "      <td>0.0003</td>\n",
       "    </tr>\n",
       "    <tr>\n",
       "      <th>3</th>\n",
       "      <td>Global stats</td>\n",
       "      <td>Average degree</td>\n",
       "      <td>3.65</td>\n",
       "      <td>2.2</td>\n",
       "      <td>3.01</td>\n",
       "      <td>11.1</td>\n",
       "      <td>9.31</td>\n",
       "    </tr>\n",
       "    <tr>\n",
       "      <th>4</th>\n",
       "      <td>Global stats</td>\n",
       "      <td>Zero deg nodes</td>\n",
       "      <td>0</td>\n",
       "      <td>0</td>\n",
       "      <td>0</td>\n",
       "      <td>0</td>\n",
       "      <td>0</td>\n",
       "    </tr>\n",
       "    <tr>\n",
       "      <th>5</th>\n",
       "      <td>Global stats</td>\n",
       "      <td>Zero in deg nodes</td>\n",
       "      <td>0</td>\n",
       "      <td>0</td>\n",
       "      <td>0</td>\n",
       "      <td>0</td>\n",
       "      <td>0</td>\n",
       "    </tr>\n",
       "    <tr>\n",
       "      <th>6</th>\n",
       "      <td>Global stats</td>\n",
       "      <td>Zero out deg nodes</td>\n",
       "      <td>0</td>\n",
       "      <td>0</td>\n",
       "      <td>0</td>\n",
       "      <td>0</td>\n",
       "      <td>0</td>\n",
       "    </tr>\n",
       "    <tr>\n",
       "      <th>7</th>\n",
       "      <td>Global stats</td>\n",
       "      <td>Self loops</td>\n",
       "      <td>0</td>\n",
       "      <td>0</td>\n",
       "      <td>0</td>\n",
       "      <td>0</td>\n",
       "      <td>0</td>\n",
       "    </tr>\n",
       "    <tr>\n",
       "      <th>8</th>\n",
       "      <td>Global stats</td>\n",
       "      <td>Bidirectional edges</td>\n",
       "      <td>52008</td>\n",
       "      <td>52008</td>\n",
       "      <td>52008</td>\n",
       "      <td>520080</td>\n",
       "      <td>520080</td>\n",
       "    </tr>\n",
       "    <tr>\n",
       "      <th>9</th>\n",
       "      <td>Global stats</td>\n",
       "      <td>Unique undirected edges</td>\n",
       "      <td>52008</td>\n",
       "      <td>52008</td>\n",
       "      <td>52008</td>\n",
       "      <td>520080</td>\n",
       "      <td>520080</td>\n",
       "    </tr>\n",
       "    <tr>\n",
       "      <th>10</th>\n",
       "      <td>Global stats</td>\n",
       "      <td>Unique directed edges</td>\n",
       "      <td>104016</td>\n",
       "      <td>104016</td>\n",
       "      <td>104016</td>\n",
       "      <td>1040160</td>\n",
       "      <td>1040160</td>\n",
       "    </tr>\n",
       "    <tr>\n",
       "      <th>11</th>\n",
       "      <td>Connectivity</td>\n",
       "      <td>Is connected</td>\n",
       "      <td>True</td>\n",
       "      <td>True</td>\n",
       "      <td>True</td>\n",
       "      <td>True</td>\n",
       "      <td>True</td>\n",
       "    </tr>\n",
       "    <tr>\n",
       "      <th>12</th>\n",
       "      <td>Connectivity</td>\n",
       "      <td>Number of connected components</td>\n",
       "      <td>1</td>\n",
       "      <td>1</td>\n",
       "      <td>1</td>\n",
       "      <td>1</td>\n",
       "      <td>1</td>\n",
       "    </tr>\n",
       "    <tr>\n",
       "      <th>13</th>\n",
       "      <td>Connectivity</td>\n",
       "      <td>Percent of nodes in largest component</td>\n",
       "      <td>100</td>\n",
       "      <td>100</td>\n",
       "      <td>100</td>\n",
       "      <td>100</td>\n",
       "      <td>100</td>\n",
       "    </tr>\n",
       "    <tr>\n",
       "      <th>14</th>\n",
       "      <td>Transitivity</td>\n",
       "      <td>Clustering coefficient</td>\n",
       "      <td>0</td>\n",
       "      <td>0</td>\n",
       "      <td>0</td>\n",
       "      <td>0</td>\n",
       "      <td>0</td>\n",
       "    </tr>\n",
       "    <tr>\n",
       "      <th>15</th>\n",
       "      <td>Path stats</td>\n",
       "      <td>90% effective diameter</td>\n",
       "      <td>3.9</td>\n",
       "      <td>3.93</td>\n",
       "      <td>3.79</td>\n",
       "      <td>3.89</td>\n",
       "      <td>3.89</td>\n",
       "    </tr>\n",
       "    <tr>\n",
       "      <th>16</th>\n",
       "      <td>Path stats</td>\n",
       "      <td>Approx. full diameter</td>\n",
       "      <td>6</td>\n",
       "      <td>6</td>\n",
       "      <td>6</td>\n",
       "      <td>6</td>\n",
       "      <td>5</td>\n",
       "    </tr>\n",
       "    <tr>\n",
       "      <th>17</th>\n",
       "      <td>Path stats</td>\n",
       "      <td>Average shortest path length</td>\n",
       "      <td>3.88</td>\n",
       "      <td>4</td>\n",
       "      <td>2.98</td>\n",
       "      <td>3.81</td>\n",
       "      <td>3.8</td>\n",
       "    </tr>\n",
       "  </tbody>\n",
       "</table>\n",
       "</div>"
      ],
      "text/plain": [
       "        Category                              Statistic properly_generated  \\\n",
       "0   Global stats                                  Nodes              14265   \n",
       "1   Global stats                                  Edges              52008   \n",
       "2   Global stats                                Density             0.0005   \n",
       "3   Global stats                         Average degree               3.65   \n",
       "4   Global stats                         Zero deg nodes                  0   \n",
       "5   Global stats                      Zero in deg nodes                  0   \n",
       "6   Global stats                     Zero out deg nodes                  0   \n",
       "7   Global stats                             Self loops                  0   \n",
       "8   Global stats                    Bidirectional edges              52008   \n",
       "9   Global stats                Unique undirected edges              52008   \n",
       "10  Global stats                  Unique directed edges             104016   \n",
       "11  Connectivity                           Is connected               True   \n",
       "12  Connectivity         Number of connected components                  1   \n",
       "13  Connectivity  Percent of nodes in largest component                100   \n",
       "14  Transitivity                 Clustering coefficient                  0   \n",
       "15    Path stats                 90% effective diameter                3.9   \n",
       "16    Path stats                  Approx. full diameter                  6   \n",
       "17    Path stats           Average shortest path length               3.88   \n",
       "\n",
       "   randomly_generated original properly_generated_10 randomly_generated_10  \n",
       "0               23606    17289                 46862                 55880  \n",
       "1               52008    52008                520080                520080  \n",
       "2              0.0002   0.0003                0.0005                0.0003  \n",
       "3                 2.2     3.01                  11.1                  9.31  \n",
       "4                   0        0                     0                     0  \n",
       "5                   0        0                     0                     0  \n",
       "6                   0        0                     0                     0  \n",
       "7                   0        0                     0                     0  \n",
       "8               52008    52008                520080                520080  \n",
       "9               52008    52008                520080                520080  \n",
       "10             104016   104016               1040160               1040160  \n",
       "11               True     True                  True                  True  \n",
       "12                  1        1                     1                     1  \n",
       "13                100      100                   100                   100  \n",
       "14                  0        0                     0                     0  \n",
       "15               3.93     3.79                  3.89                  3.89  \n",
       "16                  6        6                     6                     5  \n",
       "17                  4     2.98                  3.81                   3.8  "
      ]
     },
     "execution_count": 12,
     "metadata": {},
     "output_type": "execute_result"
    }
   ],
   "source": [
    "graph_analyser = AnalysisModule()\n",
    "df = graph_analyser.compare_graph_stats(*all_graphs)\n",
    "df"
   ]
  },
  {
   "cell_type": "markdown",
   "id": "2b5944c0",
   "metadata": {},
   "source": [
    "The degree distribution comparison and hop plots can also be visualized by calling the `compare_graph_plots` fn on the analyzer."
   ]
  },
  {
   "cell_type": "code",
   "execution_count": 13,
   "id": "aedf53b7",
   "metadata": {},
   "outputs": [
    {
     "data": {
      "image/png": "[encoded data removed]",
      "text/plain": [
       "<Figure size 1296x432 with 2 Axes>"
      ]
     },
     "metadata": {
      "needs_background": "light"
     },
     "output_type": "display_data"
    }
   ],
   "source": [
    "_ = graph_analyser.compare_graph_plots(*all_graphs)"
   ]
  },
  {
   "cell_type": "code",
   "execution_count": null,
   "id": "904b97e0",
   "metadata": {},
   "outputs": [],
   "source": []
  }
 ],
 "metadata": {
  "jupytext": {
   "formats": "ipynb,md"
  },
  "kernelspec": {
   "display_name": "Python 3 (ipykernel)",
   "language": "python",
   "name": "python3"
  },
  "language_info": {
   "codemirror_mode": {
    "name": "ipython",
    "version": 3
   },
   "file_extension": ".py",
   "mimetype": "text/x-python",
   "name": "python",
   "nbconvert_exporter": "python",
   "pygments_lexer": "ipython3",
   "version": "3.8.10"
  }
 },
 "nbformat": 4,
 "nbformat_minor": 5
}
