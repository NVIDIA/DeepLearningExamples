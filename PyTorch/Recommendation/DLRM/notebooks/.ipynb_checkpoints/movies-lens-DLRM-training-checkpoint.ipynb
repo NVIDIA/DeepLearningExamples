{
 "cells": [
  {
   "cell_type": "code",
   "execution_count": 1,
   "metadata": {
    "scrolled": false
   },
   "outputs": [
    {
     "name": "stdout",
     "output_type": "stream",
     "text": [
      "Using the Volta-optimized dot interaction kernels\n",
      "DLL 2020-08-14 15:16:32.869533 - PARAMETER logtostderr : False  alsologtostderr : False  log_dir :   v : 0  verbosity : 0  stderrthreshold : fatal  showprefixforinfo : True  run_with_pdb : False  pdb_post_mortem : False  run_with_profiling : False  profile_file : None  use_cprofile_for_profiling : True  only_check_args : False  mode : train  seed : 12345  batch_size : 32768  test_batch_size : 32768  lr : 1.0  epochs : 10  max_steps : None  warmup_factor : 0  warmup_steps : 6400  decay_steps : 80000  decay_start_step : 64000  decay_power : 2  decay_end_lr : 0.0  embedding_type : joint  embedding_dim : 128  top_mlp_sizes : [1024, 1024, 512, 256, 1]  bottom_mlp_sizes : [512, 256, 128]  interaction_op : cuda_dot  dataset : /data/dlrm/binary_dataset/  dataset_type : split  synthetic_dataset_dir : /tmp/dlrm_sythetic_dataset  synthetic_dataset_table_sizes : ['100000', '100000', '100000', '100000', '100000', '100000', '100000', '100000', '100000', '100000', '100000', '100000', '100000', '100000', '100000', '100000', '100000', '100000', '100000', '100000', '100000', '100000', '100000', '100000', '100000', '100000']  synthetic_dataset_num_entries : 33554432  shuffle : False  shuffle_batch_order : False  num_numerical_features : 1  max_table_size : None  hash_indices : False  dataset_subset : None  load_checkpoint_path : None  save_checkpoint_path : ./movie_lens_model  output_dir : /tmp  log_path : ./log.json  test_freq : None  test_after : 0.0  print_freq : 200  benchmark_warmup_steps : 0  base_device : cuda  amp : False  loss_scale : 1024.0  inference_benchmark_batch_sizes : [1, 64, 4096]  inference_benchmark_steps : 200  auc_threshold : None  optimized_mlp : True  ? : False  help : False  helpshort : False  helpfull : False  helpxml : False \n",
      "feature sizes:  [138494, 26745]\n",
      "feature sizes:  [138494, 26745]\n",
      "Creating model\n",
      "feature sizes:  [138494, 26745]\n",
      "Dlrm(\n",
      "  interaction_op=cuda_dot, hash_indices=False\n",
      "  (bottom_model): DlrmBottom(\n",
      "    (embeddings): JointEmbedding(\n",
      "      offsets=[     0 138494 165239]\n",
      "      (embedding): Embedding(165239, 128, sparse=True)\n",
      "    )\n",
      "    (mlp): CppMlp(\n",
      "      (mlp): MLP(MLP sizes: [1, 512, 256, 128], Bias=1, activation=1)\n",
      "    )\n",
      "  )\n",
      "  (top_model): DlrmTop(\n",
      "    (mlp): CppMlp(\n",
      "      (mlp): MLP(MLP sizes: [132, 1024, 1024, 512, 256], Bias=1, activation=1)\n",
      "    )\n",
      "    (out): Linear(in_features=256, out_features=1, bias=True)\n",
      "  )\n",
      ")\n",
      "feature sizes:  [138494, 26745]\n"
     ]
    },
    {
     "name": "stderr",
     "output_type": "stream",
     "text": [
      "/workspace/dlrm/dlrm/data/datasets.py:213: UserWarning: The given NumPy array is not writeable, and PyTorch does not support non-writeable tensors. This means you can write to the underlying (supposedly non-writeable) NumPy array using the tensor. You may want to copy the array to protect its data or make it writeable before converting it to a tensor. This type of warning will be suppressed for the rest of this program. (Triggered internally at  ../torch/csrc/utils/tensor_numpy.cpp:141.)\n",
      "  return torch.from_numpy(array).to(torch.float32)\n"
     ]
    },
    {
     "name": "stdout",
     "output_type": "stream",
     "text": [
      "Epoch:[0/10] [200/1029]  eta: 0:00:29  loss: 0.6772  step_time: 0.035982  lr: 0.0314\n",
      "Epoch:[0/10] [400/1029]  eta: 0:00:21  loss: 0.6770  step_time: 0.033196  lr: 0.0627\n",
      "Epoch:[0/10] [600/1029]  eta: 0:00:14  loss: 0.6774  step_time: 0.033218  lr: 0.0939\n",
      "Epoch:[0/10] [800/1029]  eta: 0:00:07  loss: 0.6767  step_time: 0.033188  lr: 0.1252\n",
      "Epoch:[0/10] [1000/1029]  eta: 0:00:00  loss: 0.6768  step_time: 0.033184  lr: 0.1564\n"
     ]
    },
    {
     "name": "stderr",
     "output_type": "stream",
     "text": [
      "/workspace/dlrm/dlrm/scripts/utils.py:291: UserWarning: This overload of nonzero is deprecated:\n",
      "\tnonzero(Tensor input, *, Tensor out)\n",
      "Consider using one of the following signatures instead:\n",
      "\tnonzero(Tensor input, *, bool as_tuple) (Triggered internally at  ../torch/csrc/utils/python_arg_parser.cpp:760.)\n",
      "  distinct_value_indices = torch.nonzero(y_score[1:] - y_score[:-1]).squeeze()\n"
     ]
    },
    {
     "name": "stdout",
     "output_type": "stream",
     "text": [
      "AUC computation took: 0.00 [s]\n",
      "Epoch 0 step 1028. Test loss 0.71019, auc 0.501574\n",
      "Saving a checkpoint to ./movie_lens_model\n",
      "Checkpoint saving took 0.37 [s]\n",
      "Epoch:[1/10] [200/1029]  eta: 0:00:28  loss: 0.6771  step_time: 0.040098  lr: 0.1922\n",
      "Epoch:[1/10] [400/1029]  eta: 0:00:21  loss: 0.6770  step_time: 0.033175  lr: 0.2234\n",
      "Epoch:[1/10] [600/1029]  eta: 0:00:14  loss: 0.6773  step_time: 0.033159  lr: 0.2547\n",
      "Epoch:[1/10] [800/1029]  eta: 0:00:07  loss: 0.6767  step_time: 0.033183  lr: 0.2859\n",
      "Epoch:[1/10] [1000/1029]  eta: 0:00:00  loss: 0.6768  step_time: 0.033200  lr: 0.3172\n",
      "AUC computation took: 0.00 [s]\n",
      "Epoch 1 step 1027. Test loss 0.71006, auc 0.526478\n",
      "Saving a checkpoint to ./movie_lens_model\n",
      "Checkpoint saving took 0.35 [s]\n",
      "Epoch:[2/10] [200/1029]  eta: 0:00:28  loss: 0.6771  step_time: 0.039986  lr: 0.3530\n",
      "Epoch:[2/10] [400/1029]  eta: 0:00:21  loss: 0.6769  step_time: 0.033176  lr: 0.3842\n",
      "Epoch:[2/10] [600/1029]  eta: 0:00:14  loss: 0.6770  step_time: 0.033183  lr: 0.4155\n",
      "Epoch:[2/10] [800/1029]  eta: 0:00:07  loss: 0.6692  step_time: 0.033185  lr: 0.4467\n",
      "Epoch:[2/10] [1000/1029]  eta: 0:00:00  loss: 0.6457  step_time: 0.033187  lr: 0.4780\n",
      "AUC computation took: 0.00 [s]\n",
      "Epoch 2 step 1026. Test loss 0.68951, auc 0.715543\n",
      "Saving a checkpoint to ./movie_lens_model\n",
      "Checkpoint saving took 0.35 [s]\n",
      "Epoch:[3/10] [200/1029]  eta: 0:00:28  loss: 0.6681  step_time: 0.039975  lr: 0.5137\n",
      "Epoch:[3/10] [400/1029]  eta: 0:00:21  loss: 0.6177  step_time: 0.033174  lr: 0.5450\n",
      "Epoch:[3/10] [600/1029]  eta: 0:00:14  loss: 0.6754  step_time: 0.033181  lr: 0.5762\n",
      "Epoch:[3/10] [800/1029]  eta: 0:00:07  loss: 0.6617  step_time: 0.033177  lr: 0.6075\n",
      "Epoch:[3/10] [1000/1029]  eta: 0:00:00  loss: 1.0029  step_time: 0.033181  lr: 0.6387\n",
      "AUC computation took: 0.00 [s]\n",
      "Epoch 3 step 1025. Test loss 0.69674, auc 0.929541\n",
      "Saving a checkpoint to ./movie_lens_model\n",
      "Checkpoint saving took 0.36 [s]\n",
      "Epoch:[4/10] [200/1029]  eta: 0:00:28  loss: 0.6341  step_time: 0.039988  lr: 0.6745\n",
      "Epoch:[4/10] [400/1029]  eta: 0:00:21  loss: 0.6525  step_time: 0.033176  lr: 0.7058\n",
      "Epoch:[4/10] [600/1029]  eta: 0:00:14  loss: 0.6708  step_time: 0.033182  lr: 0.7370\n",
      "Epoch:[4/10] [800/1029]  eta: 0:00:07  loss: 0.6719  step_time: 0.033179  lr: 0.7683\n",
      "Epoch:[4/10] [1000/1029]  eta: 0:00:00  loss: 0.4965  step_time: 0.033161  lr: 0.7995\n",
      "AUC computation took: 0.00 [s]\n",
      "Epoch 4 step 1024. Test loss 0.70120, auc 0.061616\n",
      "Epoch:[5/10] [200/1029]  eta: 0:00:28  loss: 0.6439  step_time: 0.038225  lr: 0.8353\n",
      "Epoch:[5/10] [400/1029]  eta: 0:00:21  loss: 0.6753  step_time: 0.033175  lr: 0.8666\n",
      "Epoch:[5/10] [600/1029]  eta: 0:00:14  loss: 0.6773  step_time: 0.033172  lr: 0.8978\n",
      "Epoch:[5/10] [800/1029]  eta: 0:00:07  loss: 0.6767  step_time: 0.033169  lr: 0.9291\n",
      "Epoch:[5/10] [1000/1029]  eta: 0:00:00  loss: 0.6768  step_time: 0.033172  lr: 0.9603\n",
      "AUC computation took: 0.00 [s]\n",
      "Epoch 5 step 1023. Test loss 0.71025, auc 0.500000\n",
      "Epoch:[6/10] [200/1029]  eta: 0:00:28  loss: 0.6771  step_time: 0.038217  lr: 0.9961\n",
      "Epoch:[6/10] [400/1029]  eta: 0:00:21  loss: 0.6770  step_time: 0.033178  lr: 1.0000\n",
      "Epoch:[6/10] [600/1029]  eta: 0:00:14  loss: 0.6773  step_time: 0.033178  lr: 1.0000\n",
      "Epoch:[6/10] [800/1029]  eta: 0:00:07  loss: 0.6767  step_time: 0.033156  lr: 1.0000\n",
      "Epoch:[6/10] [1000/1029]  eta: 0:00:00  loss: 0.6768  step_time: 0.033177  lr: 1.0000\n",
      "AUC computation took: 0.00 [s]\n",
      "Epoch 6 step 1022. Test loss 0.71052, auc 0.500000\n",
      "Epoch:[7/10] [200/1029]  eta: 0:00:28  loss: 0.6771  step_time: 0.038206  lr: 1.0000\n",
      "Epoch:[7/10] [400/1029]  eta: 0:00:21  loss: 0.6770  step_time: 0.033172  lr: 1.0000\n",
      "Epoch:[7/10] [600/1029]  eta: 0:00:14  loss: 0.6773  step_time: 0.033161  lr: 1.0000\n",
      "Epoch:[7/10] [800/1029]  eta: 0:00:07  loss: 0.6767  step_time: 0.033171  lr: 1.0000\n",
      "Epoch:[7/10] [1000/1029]  eta: 0:00:00  loss: 0.6768  step_time: 0.033182  lr: 1.0000\n",
      "AUC computation took: 0.00 [s]\n",
      "Epoch 7 step 1021. Test loss 0.71058, auc 0.500000\n",
      "Epoch:[8/10] [200/1029]  eta: 0:00:28  loss: 0.6771  step_time: 0.038208  lr: 1.0000\n",
      "Epoch:[8/10] [400/1029]  eta: 0:00:21  loss: 0.6770  step_time: 0.033177  lr: 1.0000\n",
      "Epoch:[8/10] [600/1029]  eta: 0:00:14  loss: 0.6773  step_time: 0.033166  lr: 1.0000\n",
      "Epoch:[8/10] [800/1029]  eta: 0:00:07  loss: 0.6767  step_time: 0.033186  lr: 1.0000\n",
      "Epoch:[8/10] [1000/1029]  eta: 0:00:00  loss: 0.6768  step_time: 0.033170  lr: 1.0000\n",
      "AUC computation took: 0.00 [s]\n",
      "Epoch 8 step 1020. Test loss 0.71081, auc 0.500000\n",
      "Epoch:[9/10] [200/1029]  eta: 0:00:28  loss: 0.6771  step_time: 0.038220  lr: 1.0000\n",
      "Epoch:[9/10] [400/1029]  eta: 0:00:21  loss: 0.6770  step_time: 0.033171  lr: 1.0000\n",
      "Epoch:[9/10] [600/1029]  eta: 0:00:14  loss: 0.6773  step_time: 0.033174  lr: 1.0000\n",
      "Epoch:[9/10] [800/1029]  eta: 0:00:07  loss: 0.6767  step_time: 0.033173  lr: 1.0000\n",
      "Epoch:[9/10] [1000/1029]  eta: 0:00:00  loss: 0.6768  step_time: 0.033177  lr: 1.0000\n",
      "AUC computation took: 0.00 [s]\n",
      "Epoch 9 step 1019. Test loss 0.71046, auc 0.500000\n",
      "Finished training in 343s. Average speed 982944.5 records/s.\n",
      "DLL 2020-08-14 15:22:18.725945 - () best_auc : 0.92954  best_epoch : 4.00  average_train_throughput : 9.88e+05  average_test_throughput : 1.08e+07 \n"
     ]
    }
   ],
   "source": [
    "%run /workspace/dlrm/dlrm/scripts/main.py \\\n",
    "--mode train \\\n",
    "--dataset /data/dlrm/binary_dataset/ \\\n",
    "--num_numerical_features 1 \\\n",
    "--base_device cuda \\\n",
    "--lr 1 \\\n",
    "--embedding_type joint \\\n",
    "--epochs 10 \\\n",
    "--save_checkpoint_path ./movie_lens_model"
   ]
  },
  {
   "cell_type": "code",
   "execution_count": null,
   "metadata": {},
   "outputs": [],
   "source": [
    "export CUDA_VISIBLE_DEVICES=2\n",
    "\n",
    "python /workspace/dlrm/dlrm/scripts/main.py \\\n",
    "--mode train \\\n",
    "--dataset /data/dlrm/binary_dataset/ \\\n",
    "--num_numerical_features 1 \\\n",
    "--base_device cuda \\\n",
    "--lr 0.1 \\\n",
    "--embedding_type joint \\\n",
    "--epochs 10 \\\n",
    "--save_checkpoint_path ./movie_lens_model_${CUDA_VISIBLE_DEVICES}"
   ]
  }
 ],
 "metadata": {
  "kernelspec": {
   "display_name": "Python 3",
   "language": "python",
   "name": "python3"
  },
  "language_info": {
   "codemirror_mode": {
    "name": "ipython",
    "version": 3
   },
   "file_extension": ".py",
   "mimetype": "text/x-python",
   "name": "python",
   "nbconvert_exporter": "python",
   "pygments_lexer": "ipython3",
   "version": "3.6.10"
  }
 },
 "nbformat": 4,
 "nbformat_minor": 4
}
