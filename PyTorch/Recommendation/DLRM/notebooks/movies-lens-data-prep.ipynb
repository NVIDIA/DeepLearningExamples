{
 "cells": [
  {
   "cell_type": "markdown",
   "metadata": {},
   "source": [
    "# Download data"
   ]
  },
  {
   "cell_type": "code",
   "execution_count": 1,
   "metadata": {},
   "outputs": [
    {
     "name": "stdout",
     "output_type": "stream",
     "text": [
      "Reading package lists... Done\n",
      "Building dependency tree       \n",
      "Reading state information... Done\n",
      "unzip is already the newest version (6.0-21ubuntu1).\n",
      "0 upgraded, 0 newly installed, 0 to remove and 32 not upgraded.\n"
     ]
    }
   ],
   "source": [
    "!apt install unzip"
   ]
  },
  {
   "cell_type": "code",
   "execution_count": 2,
   "metadata": {},
   "outputs": [],
   "source": [
    "%%bash\n",
    "mkdir -p data\n",
    "cd data\n",
    "if [ ! -f \"ml-20m.zip\" ]; then\n",
    "    echo \"Downloading data\"\n",
    "    wget http://files.grouplens.org/datasets/movielens/ml-20m.zip\n",
    "    unzip ml-20m.zip\n",
    "fi\n"
   ]
  },
  {
   "cell_type": "code",
   "execution_count": 3,
   "metadata": {},
   "outputs": [
    {
     "name": "stdout",
     "output_type": "stream",
     "text": [
      "ml-20m\tml-20m.zip\r\n"
     ]
    }
   ],
   "source": [
    "!ls ./data"
   ]
  },
  {
   "cell_type": "code",
   "execution_count": 4,
   "metadata": {},
   "outputs": [],
   "source": [
    "from argparse import ArgumentParser\n",
    "import pandas as pd\n",
    "import numpy as np\n",
    "import torch\n",
    "import tqdm"
   ]
  },
  {
   "cell_type": "code",
   "execution_count": 5,
   "metadata": {},
   "outputs": [],
   "source": [
    "MIN_RATINGS = 20\n",
    "USER_COLUMN = 'userId'\n",
    "ITEM_COLUMN = 'movieId'"
   ]
  },
  {
   "cell_type": "code",
   "execution_count": 9,
   "metadata": {},
   "outputs": [
    {
     "name": "stdout",
     "output_type": "stream",
     "text": [
      "Filtering out users with less than 20 ratings\n"
     ]
    }
   ],
   "source": [
    "df = pd.read_csv('./data/ml-20m/ratings.csv')\n",
    "print(\"Filtering out users with less than {} ratings\".format(MIN_RATINGS))\n",
    "grouped = df.groupby(USER_COLUMN)\n",
    "df = grouped.filter(lambda x: len(x) >= MIN_RATINGS)"
   ]
  },
  {
   "cell_type": "code",
   "execution_count": 11,
   "metadata": {},
   "outputs": [
    {
     "data": {
      "text/plain": [
       "118205    9254\n",
       "8405      7515\n",
       "82418     5646\n",
       "121535    5520\n",
       "125794    5491\n",
       "74142     5447\n",
       "34576     5356\n",
       "131904    5330\n",
       "83090     5169\n",
       "59477     4988\n",
       "130767    4785\n",
       "79159     4707\n",
       "8963      4524\n",
       "15617     4354\n",
       "92011     4236\n",
       "71975     4182\n",
       "20132     4101\n",
       "46470     4094\n",
       "88820     4093\n",
       "63147     3958\n",
       "130459    3908\n",
       "120575    3864\n",
       "9544      3804\n",
       "31122     3742\n",
       "18611     3739\n",
       "125978    3662\n",
       "18138     3650\n",
       "91193     3637\n",
       "111549    3609\n",
       "68026     3602\n",
       "          ... \n",
       "124891      20\n",
       "67489       20\n",
       "83827       20\n",
       "67451       20\n",
       "1884        20\n",
       "14744       20\n",
       "31120       20\n",
       "75755       20\n",
       "18283       20\n",
       "121892      20\n",
       "42944       20\n",
       "116575      20\n",
       "105519      20\n",
       "23568       20\n",
       "14739       20\n",
       "67408       20\n",
       "39943       20\n",
       "83804       20\n",
       "10201       20\n",
       "75769       20\n",
       "138322      20\n",
       "89146       20\n",
       "92146       20\n",
       "105507      20\n",
       "18290       20\n",
       "59390       20\n",
       "23558       20\n",
       "34668       20\n",
       "80291       20\n",
       "58028       20\n",
       "Name: userId, Length: 138493, dtype: int64"
      ]
     },
     "execution_count": 11,
     "metadata": {},
     "output_type": "execute_result"
    }
   ],
   "source": [
    "df['userId'].value_counts()"
   ]
  },
  {
   "cell_type": "code",
   "execution_count": 12,
   "metadata": {},
   "outputs": [
    {
     "data": {
      "text/plain": [
       "296       67310\n",
       "356       66172\n",
       "318       63366\n",
       "593       63299\n",
       "480       59715\n",
       "260       54502\n",
       "110       53769\n",
       "589       52244\n",
       "2571      51334\n",
       "527       50054\n",
       "1         49695\n",
       "457       49581\n",
       "150       47777\n",
       "780       47048\n",
       "50        47006\n",
       "1210      46839\n",
       "592       46054\n",
       "1196      45313\n",
       "2858      44987\n",
       "32        44980\n",
       "590       44208\n",
       "1198      43295\n",
       "608       43272\n",
       "47        43249\n",
       "380       43159\n",
       "588       41842\n",
       "377       41562\n",
       "1270      41426\n",
       "858       41355\n",
       "2959      40106\n",
       "          ...  \n",
       "107238        1\n",
       "123629        1\n",
       "107236        1\n",
       "74478         1\n",
       "123621        1\n",
       "116323        1\n",
       "107248        1\n",
       "123645        1\n",
       "107252        1\n",
       "107147        1\n",
       "90777         1\n",
       "123627        1\n",
       "107241        1\n",
       "107268        1\n",
       "123596        1\n",
       "90883         1\n",
       "123669        1\n",
       "90935         1\n",
       "107316        1\n",
       "123587        1\n",
       "107202        1\n",
       "107204        1\n",
       "107243        1\n",
       "99939         1\n",
       "123600        1\n",
       "123607        1\n",
       "90823         1\n",
       "123609        1\n",
       "123613        1\n",
       "131136        1\n",
       "Name: movieId, Length: 26744, dtype: int64"
      ]
     },
     "execution_count": 12,
     "metadata": {},
     "output_type": "execute_result"
    }
   ],
   "source": [
    "df['movieId'].value_counts()"
   ]
  },
  {
   "cell_type": "code",
   "execution_count": 13,
   "metadata": {},
   "outputs": [],
   "source": [
    "import matplotlib.pyplot as plt"
   ]
  },
  {
   "cell_type": "code",
   "execution_count": 18,
   "metadata": {},
   "outputs": [
    {
     "data": {
      "image/png": "[encoded data removed]",
      "text/plain": [
       "<Figure size 432x288 with 1 Axes>"
      ]
     },
     "metadata": {
      "needs_background": "light"
     },
     "output_type": "display_data"
    }
   ],
   "source": [
    "plt.hist(df['movieId'].value_counts(),100);"
   ]
  },
  {
   "cell_type": "code",
   "execution_count": 7,
   "metadata": {},
   "outputs": [
    {
     "name": "stdout",
     "output_type": "stream",
     "text": [
      "Mapping original user and item IDs to new sequential IDs\n"
     ]
    },
    {
     "data": {
      "text/plain": [
       "26743"
      ]
     },
     "execution_count": 7,
     "metadata": {},
     "output_type": "execute_result"
    }
   ],
   "source": [
    "print(\"Mapping original user and item IDs to new sequential IDs\")\n",
    "df[USER_COLUMN], unique_users = pd.factorize(df[USER_COLUMN])\n",
    "df[ITEM_COLUMN], unique_items = pd.factorize(df[ITEM_COLUMN])\n",
    "\n",
    "np.max(df[ITEM_COLUMN])"
   ]
  },
  {
   "cell_type": "code",
   "execution_count": 8,
   "metadata": {},
   "outputs": [],
   "source": [
    "import pickle\n",
    "\n",
    "with open('./mappings.pickle', 'wb') as handle:\n",
    "    pickle.dump({\"users\": unique_users, \"items\": unique_items}, handle, protocol=pickle.HIGHEST_PROTOCOL)"
   ]
  },
  {
   "cell_type": "code",
   "execution_count": 9,
   "metadata": {},
   "outputs": [],
   "source": [
    "# Need to sort before popping to get last item\n",
    "df.sort_values(by='timestamp', inplace=True)\n",
    "\n",
    "# clean up data\n",
    "del df['rating'], df['timestamp']\n",
    "df = df.drop_duplicates() # assuming it keeps order\n",
    "\n",
    "# now we have filtered and sorted by time data, we can split test data out\n",
    "grouped_sorted = df.groupby(USER_COLUMN, group_keys=False)\n",
    "test_data = grouped_sorted.tail(1).sort_values(by=USER_COLUMN)\n",
    "# need to pop for each group\n",
    "train_data = grouped_sorted.apply(lambda x: x.iloc[:-1])"
   ]
  },
  {
   "cell_type": "code",
   "execution_count": 10,
   "metadata": {},
   "outputs": [
    {
     "data": {
      "text/html": [
       "<div>\n",
       "<style scoped>\n",
       "    .dataframe tbody tr th:only-of-type {\n",
       "        vertical-align: middle;\n",
       "    }\n",
       "\n",
       "    .dataframe tbody tr th {\n",
       "        vertical-align: top;\n",
       "    }\n",
       "\n",
       "    .dataframe thead th {\n",
       "        text-align: right;\n",
       "    }\n",
       "</style>\n",
       "<table border=\"1\" class=\"dataframe\">\n",
       "  <thead>\n",
       "    <tr style=\"text-align: right;\">\n",
       "      <th></th>\n",
       "      <th>userId</th>\n",
       "      <th>movieId</th>\n",
       "      <th>target</th>\n",
       "    </tr>\n",
       "  </thead>\n",
       "  <tbody>\n",
       "    <tr>\n",
       "      <th>20</th>\n",
       "      <td>0</td>\n",
       "      <td>20</td>\n",
       "      <td>1</td>\n",
       "    </tr>\n",
       "    <tr>\n",
       "      <th>19</th>\n",
       "      <td>0</td>\n",
       "      <td>19</td>\n",
       "      <td>1</td>\n",
       "    </tr>\n",
       "    <tr>\n",
       "      <th>86</th>\n",
       "      <td>0</td>\n",
       "      <td>86</td>\n",
       "      <td>1</td>\n",
       "    </tr>\n",
       "    <tr>\n",
       "      <th>61</th>\n",
       "      <td>0</td>\n",
       "      <td>61</td>\n",
       "      <td>1</td>\n",
       "    </tr>\n",
       "    <tr>\n",
       "      <th>23</th>\n",
       "      <td>0</td>\n",
       "      <td>23</td>\n",
       "      <td>1</td>\n",
       "    </tr>\n",
       "  </tbody>\n",
       "</table>\n",
       "</div>"
      ],
      "text/plain": [
       "    userId  movieId  target\n",
       "20       0       20       1\n",
       "19       0       19       1\n",
       "86       0       86       1\n",
       "61       0       61       1\n",
       "23       0       23       1"
      ]
     },
     "execution_count": 10,
     "metadata": {},
     "output_type": "execute_result"
    }
   ],
   "source": [
    "train_data['target']=1\n",
    "test_data['target']=1\n",
    "train_data.head()"
   ]
  },
  {
   "cell_type": "code",
   "execution_count": 11,
   "metadata": {},
   "outputs": [
    {
     "name": "stdout",
     "output_type": "stream",
     "text": [
      "Negative sampler #users 138493 items 26744\n"
     ]
    },
    {
     "name": "stderr",
     "output_type": "stream",
     "text": [
      "  0%|          | 52913/13849300 [00:00<00:26, 529121.67it/s]"
     ]
    },
    {
     "name": "stdout",
     "output_type": "stream",
     "text": [
      "Generating validation negatives...\n"
     ]
    },
    {
     "name": "stderr",
     "output_type": "stream",
     "text": [
      "100%|██████████| 13849300/13849300 [00:22<00:00, 626234.63it/s]\n"
     ]
    },
    {
     "name": "stdout",
     "output_type": "stream",
     "text": [
      "Negative sampler #users 138493 items 26744\n"
     ]
    },
    {
     "name": "stderr",
     "output_type": "stream",
     "text": [
      " 38%|███▊      | 52650/138493 [00:00<00:00, 526495.48it/s]"
     ]
    },
    {
     "name": "stdout",
     "output_type": "stream",
     "text": [
      "Generating validation negatives...\n"
     ]
    },
    {
     "name": "stderr",
     "output_type": "stream",
     "text": [
      "100%|██████████| 138493/138493 [00:00<00:00, 535942.43it/s]\n"
     ]
    }
   ],
   "source": [
    "sampler = _TestNegSampler(df.values, 100)  # using 100 negative samples\n",
    "train_negs = sampler.generate()\n",
    "train_negs = train_negs.reshape(-1, 100)\n",
    "\n",
    "sampler = _TestNegSampler(df.values, 1)  # using 1 negative samples\n",
    "test_negs = sampler.generate()\n",
    "test_negs = test_negs.reshape(-1, 1)"
   ]
  },
  {
   "cell_type": "code",
   "execution_count": 12,
   "metadata": {},
   "outputs": [
    {
     "data": {
      "text/plain": [
       "torch.Size([138493, 1])"
      ]
     },
     "execution_count": 12,
     "metadata": {},
     "output_type": "execute_result"
    }
   ],
   "source": [
    "test_negs.shape"
   ]
  },
  {
   "cell_type": "code",
   "execution_count": 13,
   "metadata": {},
   "outputs": [],
   "source": [
    "# train negative data\n",
    "train_data_neg = np.zeros((train_negs.shape[0]*train_negs.shape[1],3), dtype=int)\n",
    "idx = 0\n",
    "for i in range(train_negs.shape[0]):\n",
    "    for j in range(train_negs.shape[1]):\n",
    "        train_data_neg[idx, 0] = i\n",
    "        train_data_neg[idx, 1] = train_negs[i,j]\n",
    "        idx += 1"
   ]
  },
  {
   "cell_type": "code",
   "execution_count": 14,
   "metadata": {},
   "outputs": [],
   "source": [
    "# test negative data\n",
    "test_data_neg = np.zeros((test_negs.shape[0]*test_negs.shape[1],3), dtype=int)\n",
    "idx = 0\n",
    "for i in range(test_negs.shape[0]):\n",
    "    for j in range(test_negs.shape[1]):\n",
    "        test_data_neg[idx, 0] = i\n",
    "        test_data_neg[idx, 1] = test_negs[i,j]\n",
    "        idx += 1"
   ]
  },
  {
   "cell_type": "code",
   "execution_count": 15,
   "metadata": {},
   "outputs": [],
   "source": [
    "train_data_np= np.concatenate([train_data_neg, train_data.values])\n",
    "np.random.shuffle(train_data_np)\n",
    "\n",
    "test_data_np= np.concatenate([test_data_neg, test_data.values])\n",
    "np.random.shuffle(test_data_np)"
   ]
  },
  {
   "cell_type": "code",
   "execution_count": 16,
   "metadata": {},
   "outputs": [
    {
     "data": {
      "text/plain": [
       "138493"
      ]
     },
     "execution_count": 16,
     "metadata": {},
     "output_type": "execute_result"
    }
   ],
   "source": [
    "np.sum(test_data_np[:,2])"
   ]
  },
  {
   "cell_type": "code",
   "execution_count": 17,
   "metadata": {},
   "outputs": [
    {
     "data": {
      "text/plain": [
       "array([[ 35326,   4974,      1],\n",
       "       [119672,   1857,      1],\n",
       "       [131643,  14136,      1],\n",
       "       ...,\n",
       "       [132644,    920,      1],\n",
       "       [130708,   1823,      1],\n",
       "       [ 67488,  26575,      0]])"
      ]
     },
     "execution_count": 17,
     "metadata": {},
     "output_type": "execute_result"
    }
   ],
   "source": [
    "test_data_np"
   ]
  },
  {
   "cell_type": "markdown",
   "metadata": {},
   "source": [
    "# Write to text file"
   ]
  },
  {
   "cell_type": "code",
   "execution_count": 18,
   "metadata": {},
   "outputs": [],
   "source": [
    "rd = np.random.randint(0, 100, size=(33711070,1))\n",
    "def write_DLRM_data(data, filename='dlrm_data.tsv'):\n",
    "    print(\"Writing %d samples\"%data.shape[0], filename)\n",
    "    with open(filename, 'wt') as f:\n",
    "        for i in tqdm.tqdm(range(data.shape[0])):\n",
    "            f.write('%d\\t%d\\t%d\\t%d\\n'%(data[i,2], rd[i], data[i,0], data[i,1])) #label, dummy numeric feat., userID, itemID"
   ]
  },
  {
   "cell_type": "code",
   "execution_count": 19,
   "metadata": {},
   "outputs": [
    {
     "name": "stdout",
     "output_type": "stream",
     "text": [
      "Writing 1465699 samples /data/dlrm/criteo/day_0\n"
     ]
    },
    {
     "name": "stderr",
     "output_type": "stream",
     "text": [
      "100%|██████████| 1465699/1465699 [00:06<00:00, 229164.91it/s]\n",
      "  1%|▏         | 21192/1465699 [00:00<00:06, 211914.14it/s]"
     ]
    },
    {
     "name": "stdout",
     "output_type": "stream",
     "text": [
      "Writing 1465699 samples /data/dlrm/criteo/day_1\n"
     ]
    },
    {
     "name": "stderr",
     "output_type": "stream",
     "text": [
      "100%|██████████| 1465699/1465699 [00:06<00:00, 228478.65it/s]\n",
      "  1%|▏         | 21127/1465699 [00:00<00:06, 211268.69it/s]"
     ]
    },
    {
     "name": "stdout",
     "output_type": "stream",
     "text": [
      "Writing 1465699 samples /data/dlrm/criteo/day_2\n"
     ]
    },
    {
     "name": "stderr",
     "output_type": "stream",
     "text": [
      "100%|██████████| 1465699/1465699 [00:06<00:00, 229007.32it/s]\n",
      "  1%|▏         | 21361/1465699 [00:00<00:06, 213604.09it/s]"
     ]
    },
    {
     "name": "stdout",
     "output_type": "stream",
     "text": [
      "Writing 1465699 samples /data/dlrm/criteo/day_3\n"
     ]
    },
    {
     "name": "stderr",
     "output_type": "stream",
     "text": [
      "100%|██████████| 1465699/1465699 [00:06<00:00, 229398.79it/s]\n",
      "  1%|▏         | 21308/1465699 [00:00<00:06, 213072.08it/s]"
     ]
    },
    {
     "name": "stdout",
     "output_type": "stream",
     "text": [
      "Writing 1465699 samples /data/dlrm/criteo/day_4\n"
     ]
    },
    {
     "name": "stderr",
     "output_type": "stream",
     "text": [
      "100%|██████████| 1465699/1465699 [00:06<00:00, 229140.30it/s]\n",
      "  1%|▏         | 21065/1465699 [00:00<00:06, 210644.68it/s]"
     ]
    },
    {
     "name": "stdout",
     "output_type": "stream",
     "text": [
      "Writing 1465699 samples /data/dlrm/criteo/day_5\n"
     ]
    },
    {
     "name": "stderr",
     "output_type": "stream",
     "text": [
      "100%|██████████| 1465699/1465699 [00:06<00:00, 229314.96it/s]\n",
      "  1%|▏         | 21240/1465699 [00:00<00:06, 212390.58it/s]"
     ]
    },
    {
     "name": "stdout",
     "output_type": "stream",
     "text": [
      "Writing 1465699 samples /data/dlrm/criteo/day_6\n"
     ]
    },
    {
     "name": "stderr",
     "output_type": "stream",
     "text": [
      "100%|██████████| 1465699/1465699 [00:06<00:00, 228776.28it/s]\n",
      "  1%|▏         | 21230/1465699 [00:00<00:06, 212291.60it/s]"
     ]
    },
    {
     "name": "stdout",
     "output_type": "stream",
     "text": [
      "Writing 1465699 samples /data/dlrm/criteo/day_7\n"
     ]
    },
    {
     "name": "stderr",
     "output_type": "stream",
     "text": [
      "100%|██████████| 1465699/1465699 [00:06<00:00, 231034.42it/s]\n",
      "  1%|▏         | 21188/1465699 [00:00<00:06, 211877.68it/s]"
     ]
    },
    {
     "name": "stdout",
     "output_type": "stream",
     "text": [
      "Writing 1465699 samples /data/dlrm/criteo/day_8\n"
     ]
    },
    {
     "name": "stderr",
     "output_type": "stream",
     "text": [
      "100%|██████████| 1465699/1465699 [00:06<00:00, 230074.47it/s]\n",
      "  3%|▎         | 42430/1465699 [00:00<00:06, 211677.77it/s]"
     ]
    },
    {
     "name": "stdout",
     "output_type": "stream",
     "text": [
      "Writing 1465699 samples /data/dlrm/criteo/day_9\n"
     ]
    },
    {
     "name": "stderr",
     "output_type": "stream",
     "text": [
      "100%|██████████| 1465699/1465699 [00:06<00:00, 228629.15it/s]\n",
      "  1%|▏         | 21284/1465699 [00:00<00:06, 212830.56it/s]"
     ]
    },
    {
     "name": "stdout",
     "output_type": "stream",
     "text": [
      "Writing 1465699 samples /data/dlrm/criteo/day_10\n"
     ]
    },
    {
     "name": "stderr",
     "output_type": "stream",
     "text": [
      "100%|██████████| 1465699/1465699 [00:06<00:00, 229231.52it/s]\n",
      "  1%|▏         | 21397/1465699 [00:00<00:06, 213964.08it/s]"
     ]
    },
    {
     "name": "stdout",
     "output_type": "stream",
     "text": [
      "Writing 1465699 samples /data/dlrm/criteo/day_11\n"
     ]
    },
    {
     "name": "stderr",
     "output_type": "stream",
     "text": [
      "100%|██████████| 1465699/1465699 [00:06<00:00, 230468.59it/s]\n",
      "  1%|▏         | 21235/1465699 [00:00<00:06, 212346.15it/s]"
     ]
    },
    {
     "name": "stdout",
     "output_type": "stream",
     "text": [
      "Writing 1465699 samples /data/dlrm/criteo/day_12\n"
     ]
    },
    {
     "name": "stderr",
     "output_type": "stream",
     "text": [
      "100%|██████████| 1465699/1465699 [00:06<00:00, 229828.44it/s]\n",
      "  1%|▏         | 21246/1465699 [00:00<00:06, 212458.68it/s]"
     ]
    },
    {
     "name": "stdout",
     "output_type": "stream",
     "text": [
      "Writing 1465699 samples /data/dlrm/criteo/day_13\n"
     ]
    },
    {
     "name": "stderr",
     "output_type": "stream",
     "text": [
      "100%|██████████| 1465699/1465699 [00:06<00:00, 230378.22it/s]\n",
      "  1%|▏         | 21288/1465699 [00:00<00:06, 212877.16it/s]"
     ]
    },
    {
     "name": "stdout",
     "output_type": "stream",
     "text": [
      "Writing 1465699 samples /data/dlrm/criteo/day_14\n"
     ]
    },
    {
     "name": "stderr",
     "output_type": "stream",
     "text": [
      "100%|██████████| 1465699/1465699 [00:06<00:00, 229493.57it/s]\n",
      "  1%|▏         | 21241/1465699 [00:00<00:06, 212402.10it/s]"
     ]
    },
    {
     "name": "stdout",
     "output_type": "stream",
     "text": [
      "Writing 1465699 samples /data/dlrm/criteo/day_15\n"
     ]
    },
    {
     "name": "stderr",
     "output_type": "stream",
     "text": [
      "100%|██████████| 1465699/1465699 [00:06<00:00, 229972.63it/s]\n",
      "  1%|▏         | 21141/1465698 [00:00<00:06, 211401.13it/s]"
     ]
    },
    {
     "name": "stdout",
     "output_type": "stream",
     "text": [
      "Writing 1465698 samples /data/dlrm/criteo/day_16\n"
     ]
    },
    {
     "name": "stderr",
     "output_type": "stream",
     "text": [
      "100%|██████████| 1465698/1465698 [00:06<00:00, 229958.98it/s]\n",
      "  1%|▏         | 21244/1465698 [00:00<00:06, 212436.15it/s]"
     ]
    },
    {
     "name": "stdout",
     "output_type": "stream",
     "text": [
      "Writing 1465698 samples /data/dlrm/criteo/day_17\n"
     ]
    },
    {
     "name": "stderr",
     "output_type": "stream",
     "text": [
      "100%|██████████| 1465698/1465698 [00:06<00:00, 229103.29it/s]\n",
      "  1%|▏         | 21224/1465698 [00:00<00:06, 212232.11it/s]"
     ]
    },
    {
     "name": "stdout",
     "output_type": "stream",
     "text": [
      "Writing 1465698 samples /data/dlrm/criteo/day_18\n"
     ]
    },
    {
     "name": "stderr",
     "output_type": "stream",
     "text": [
      "100%|██████████| 1465698/1465698 [00:06<00:00, 228540.93it/s]\n",
      "  1%|▏         | 21233/1465698 [00:00<00:06, 212329.70it/s]"
     ]
    },
    {
     "name": "stdout",
     "output_type": "stream",
     "text": [
      "Writing 1465698 samples /data/dlrm/criteo/day_19\n"
     ]
    },
    {
     "name": "stderr",
     "output_type": "stream",
     "text": [
      "100%|██████████| 1465698/1465698 [00:06<00:00, 229093.38it/s]\n",
      "  1%|▏         | 21314/1465698 [00:00<00:06, 213138.68it/s]"
     ]
    },
    {
     "name": "stdout",
     "output_type": "stream",
     "text": [
      "Writing 1465698 samples /data/dlrm/criteo/day_20\n"
     ]
    },
    {
     "name": "stderr",
     "output_type": "stream",
     "text": [
      "100%|██████████| 1465698/1465698 [00:06<00:00, 230234.50it/s]\n",
      "  1%|▏         | 21288/1465698 [00:00<00:06, 212871.07it/s]"
     ]
    },
    {
     "name": "stdout",
     "output_type": "stream",
     "text": [
      "Writing 1465698 samples /data/dlrm/criteo/day_21\n"
     ]
    },
    {
     "name": "stderr",
     "output_type": "stream",
     "text": [
      "100%|██████████| 1465698/1465698 [00:06<00:00, 229431.38it/s]\n",
      "  1%|▏         | 21280/1465698 [00:00<00:06, 212797.16it/s]"
     ]
    },
    {
     "name": "stdout",
     "output_type": "stream",
     "text": [
      "Writing 1465698 samples /data/dlrm/criteo/day_22\n"
     ]
    },
    {
     "name": "stderr",
     "output_type": "stream",
     "text": [
      "100%|██████████| 1465698/1465698 [00:06<00:00, 229680.46it/s]\n"
     ]
    }
   ],
   "source": [
    "!rm -rf /data/dlrm/\n",
    "!mkdir -p /data/dlrm/criteo\n",
    "for i, data_arr in enumerate(np.array_split(train_data_np,23)):\n",
    "    write_DLRM_data(data_arr, filename='/data/dlrm/criteo/day_%d'%i)"
   ]
  },
  {
   "cell_type": "code",
   "execution_count": 20,
   "metadata": {},
   "outputs": [
    {
     "name": "stdout",
     "output_type": "stream",
     "text": [
      "0\t19\t91370\t20687\r\n",
      "1\t70\t119206\t398\r\n",
      "1\t77\t126716\t118\r\n",
      "0\t5\t67368\t3692\r\n",
      "0\t74\t33815\t6707\r\n",
      "1\t96\t51265\t2482\r\n",
      "0\t99\t77632\t23178\r\n",
      "1\t97\t129951\t730\r\n",
      "0\t86\t21908\t26442\r\n",
      "1\t20\t137557\t6715\r\n"
     ]
    }
   ],
   "source": [
    "!head /data/dlrm/criteo/day_0"
   ]
  },
  {
   "cell_type": "code",
   "execution_count": 21,
   "metadata": {},
   "outputs": [
    {
     "name": "stderr",
     "output_type": "stream",
     "text": [
      "\r",
      "  0%|          | 0/276986 [00:00<?, ?it/s]"
     ]
    },
    {
     "name": "stdout",
     "output_type": "stream",
     "text": [
      "Writing 276986 samples /data/dlrm/criteo/day_23\n"
     ]
    },
    {
     "name": "stderr",
     "output_type": "stream",
     "text": [
      "100%|██████████| 276986/276986 [00:01<00:00, 224174.67it/s]\n"
     ]
    }
   ],
   "source": [
    "write_DLRM_data(test_data_np, filename='/data/dlrm/criteo/day_23')"
   ]
  },
  {
   "cell_type": "code",
   "execution_count": 22,
   "metadata": {},
   "outputs": [
    {
     "name": "stdout",
     "output_type": "stream",
     "text": [
      "0\t19\t91370\t20687\r\n",
      "1\t70\t119206\t398\r\n",
      "1\t77\t126716\t118\r\n",
      "0\t5\t67368\t3692\r\n",
      "0\t74\t33815\t6707\r\n",
      "1\t96\t51265\t2482\r\n",
      "0\t99\t77632\t23178\r\n",
      "1\t97\t129951\t730\r\n",
      "0\t86\t21908\t26442\r\n",
      "1\t20\t137557\t6715\r\n"
     ]
    }
   ],
   "source": [
    "!head /data/dlrm/criteo/day_0"
   ]
  },
  {
   "cell_type": "code",
   "execution_count": 23,
   "metadata": {},
   "outputs": [
    {
     "name": "stdout",
     "output_type": "stream",
     "text": [
      "0\t70\t70679\t19357\r\n",
      "0\t59\t99795\t19726\r\n",
      "0\t65\t64765\t20586\r\n",
      "0\t61\t12655\t1907\r\n",
      "1\t24\t38058\t2542\r\n",
      "1\t77\t71403\t5079\r\n",
      "1\t6\t134995\t624\r\n",
      "1\t26\t132644\t920\r\n",
      "1\t27\t130708\t1823\r\n",
      "0\t16\t67488\t26575\r\n"
     ]
    }
   ],
   "source": [
    "!tail /data/dlrm/criteo/day_23"
   ]
  },
  {
   "cell_type": "markdown",
   "metadata": {},
   "source": [
    "# Preprocessing with DLRM"
   ]
  },
  {
   "cell_type": "code",
   "execution_count": null,
   "metadata": {},
   "outputs": [],
   "source": [
    "%%bash\n",
    "apt install psmisc\n",
    "cd ./preproc\n",
    "killall -9 java\n",
    "bash ./prepare_dataset.sh"
   ]
  },
  {
   "cell_type": "code",
   "execution_count": 27,
   "metadata": {},
   "outputs": [
    {
     "name": "stdout",
     "output_type": "stream",
     "text": [
      "{\r\n",
      "    \"_c2\": 138493,\r\n",
      "    \"_c3\": 26744\r\n",
      "}"
     ]
    }
   ],
   "source": [
    "!cat /data/dlrm/binary_dataset/model_size.json\n"
   ]
  },
  {
   "cell_type": "code",
   "execution_count": null,
   "metadata": {},
   "outputs": [],
   "source": []
  }
 ],
 "metadata": {
  "kernelspec": {
   "display_name": "Python 3",
   "language": "python",
   "name": "python3"
  },
  "language_info": {
   "codemirror_mode": {
    "name": "ipython",
    "version": 3
   },
   "file_extension": ".py",
   "mimetype": "text/x-python",
   "name": "python",
   "nbconvert_exporter": "python",
   "pygments_lexer": "ipython3",
   "version": "3.6.10"
  }
 },
 "nbformat": 4,
 "nbformat_minor": 4
}
