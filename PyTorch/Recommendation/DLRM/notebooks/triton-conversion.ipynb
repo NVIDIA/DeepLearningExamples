{
 "cells": [
  {
   "cell_type": "code",
   "execution_count": null,
   "metadata": {},
   "outputs": [],
   "source": [
    "docker build -t dlrm-inference . -f triton/Dockerfile"
   ]
  },
  {
   "cell_type": "code",
   "execution_count": null,
   "metadata": {},
   "outputs": [],
   "source": [
    "docker run -it --rm --gpus device=0 --shm-size=1g --ulimit memlock=-1 --ulimit stack=67108864 --net=host -v home:/home -v ${PWD}:/workspace/dlrm -v ${PWD}/triton_model:/repository dlrm-inference bash"
   ]
  },
  {
   "cell_type": "markdown",
   "metadata": {},
   "source": [
    "# Torch trace"
   ]
  },
  {
   "cell_type": "code",
   "execution_count": null,
   "metadata": {},
   "outputs": [],
   "source": [
    "python -m triton.deployer \\\n",
    "--ts-trace \\\n",
    "--triton-model-name dlrm-ts-trace-16 \\\n",
    "--triton-max-batch-size 4096 \\\n",
    "--save-dir /repository \\\n",
    "-- --model_checkpoint ./movie_lens_dlrm_v4 \\\n",
    "--fp16 --batch_size 4096 \\\n",
    "--num_numerical_features 171 \\\n",
    "--embedding_dim 128 \\\n",
    "--top_mlp_sizes 128 1 \\\n",
    "--bottom_mlp_sizes 128 128 \\\n",
    "--interaction_op dot \\\n",
    "--dataset ./notebooks"
   ]
  },
  {
   "cell_type": "code",
   "execution_count": null,
   "metadata": {},
   "outputs": [],
   "source": [
    "python -m triton.deployer \\\n",
    "--ts-trace \\\n",
    "--triton-model-name dlrm-ts-trace-16 \\\n",
    "--triton-max-batch-size 4096 \\\n",
    "--save-dir /repository \\\n",
    "-- --model_checkpoint ./movie_lens_dlrm_v4-no-cpp-mlp \\\n",
    "--fp16 --batch_size 4096 \\\n",
    "--num_numerical_features 171 \\\n",
    "--embedding_dim 128 \\\n",
    "--top_mlp_sizes 128 1 \\\n",
    "--bottom_mlp_sizes 128 128 \\\n",
    "--interaction_op dot \\\n",
    "--dataset ./notebooks\n"
   ]
  },
  {
   "cell_type": "markdown",
   "metadata": {},
   "source": [
    "# Jit"
   ]
  },
  {
   "cell_type": "code",
   "execution_count": null,
   "metadata": {},
   "outputs": [],
   "source": [
    "python -m triton.deployer \\\n",
    "--ts-script \\\n",
    "--triton-model-name dlrm-ts-script-16 \\\n",
    "--triton-max-batch-size 4096 \\\n",
    "--save-dir /repository \\\n",
    "-- --model_checkpoint ./movie_lens_dlrm_v4 \\\n",
    "--fp16 --batch_size 4096 \\\n",
    "--num_numerical_features 171 \\\n",
    "--embedding_dim 128 \\\n",
    "--top_mlp_sizes 128 1 \\\n",
    "--bottom_mlp_sizes 128 128 \\\n",
    "--interaction_op dot \\\n",
    "--dataset ./notebooks"
   ]
  }
 ],
 "metadata": {
  "kernelspec": {
   "display_name": "Python 3",
   "language": "python",
   "name": "python3"
  },
  "language_info": {
   "codemirror_mode": {
    "name": "ipython",
    "version": 3
   },
   "file_extension": ".py",
   "mimetype": "text/x-python",
   "name": "python",
   "nbconvert_exporter": "python",
   "pygments_lexer": "ipython3",
   "version": "3.6.10"
  }
 },
 "nbformat": 4,
 "nbformat_minor": 4
}
